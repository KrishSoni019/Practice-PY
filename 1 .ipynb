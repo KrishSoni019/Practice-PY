{
 "cells": [
  {
   "cell_type": "code",
   "execution_count": null,
   "id": "016a9a8d",
   "metadata": {},
   "outputs": [],
   "source": [
    "a='hello' * 3\n",
    "print()"
   ]
  }
 ],
 "metadata": {
  "language_info": {
   "name": "python"
  }
 },
 "nbformat": 4,
 "nbformat_minor": 5
}
